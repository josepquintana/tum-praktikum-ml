{
 "cells": [
  {
   "cell_type": "code",
   "execution_count": 35,
   "metadata": {},
   "outputs": [],
   "source": [
    "# libraries\n",
    "import pandas as pd\n",
    "import random\n",
    "\n",
    "# local modules\n",
    "import preprocessing as pp\n",
    "\n",
    "# reload changes in modules automatically\n",
    "%reload_ext autoreload\n",
    "%autoreload 2"
   ]
  },
  {
   "cell_type": "markdown",
   "metadata": {},
   "source": [
    "## Load and preprocess data"
   ]
  },
  {
   "cell_type": "code",
   "execution_count": 2,
   "metadata": {},
   "outputs": [
    {
     "data": {
      "text/html": [
       "<div>\n",
       "<style scoped>\n",
       "    .dataframe tbody tr th:only-of-type {\n",
       "        vertical-align: middle;\n",
       "    }\n",
       "\n",
       "    .dataframe tbody tr th {\n",
       "        vertical-align: top;\n",
       "    }\n",
       "\n",
       "    .dataframe thead th {\n",
       "        text-align: right;\n",
       "    }\n",
       "</style>\n",
       "<table border=\"1\" class=\"dataframe\">\n",
       "  <thead>\n",
       "    <tr style=\"text-align: right;\">\n",
       "      <th></th>\n",
       "      <th>id</th>\n",
       "      <th>operator</th>\n",
       "      <th>timestamp</th>\n",
       "      <th>category</th>\n",
       "      <th>text</th>\n",
       "      <th>language</th>\n",
       "      <th>translated-text</th>\n",
       "    </tr>\n",
       "  </thead>\n",
       "  <tbody>\n",
       "    <tr>\n",
       "      <th>0</th>\n",
       "      <td>2000000060</td>\n",
       "      <td>H2851RM1</td>\n",
       "      <td>2015-11-25 18:35:21+00:00</td>\n",
       "      <td>ZSD_SR_AA</td>\n",
       "      <td>Hallo zusammen aktuell sind die Systeme i06, i...</td>\n",
       "      <td>de</td>\n",
       "      <td>Hallo zusammen aktuell sind die Systeme i06, i...</td>\n",
       "    </tr>\n",
       "    <tr>\n",
       "      <th>1</th>\n",
       "      <td>2000000081</td>\n",
       "      <td>H2851RM1</td>\n",
       "      <td>2015-12-01 09:06:58+00:00</td>\n",
       "      <td>ZSD_SR_IDES</td>\n",
       "      <td>Wie bereits früher in Mails dokumentiert, läuf...</td>\n",
       "      <td>de</td>\n",
       "      <td>Wie bereits früher in Mails dokumentiert, läuf...</td>\n",
       "    </tr>\n",
       "    <tr>\n",
       "      <th>2</th>\n",
       "      <td>2000000091</td>\n",
       "      <td>H2851RM1</td>\n",
       "      <td>2015-12-03 16:13:00+00:00</td>\n",
       "      <td>ZSD_SR_IDES</td>\n",
       "      <td>Kontextmenü im Workflow Builder funktioniert n...</td>\n",
       "      <td>de</td>\n",
       "      <td>Kontextmenü im Workflow Builder funktioniert n...</td>\n",
       "    </tr>\n",
       "    <tr>\n",
       "      <th>3</th>\n",
       "      <td>2000000092</td>\n",
       "      <td>H2851RM1</td>\n",
       "      <td>2015-12-03 16:38:37+00:00</td>\n",
       "      <td>ZSD_SR_IDES</td>\n",
       "      <td>Mehrstufige Container-Ausdrücke in der Aufgabe...</td>\n",
       "      <td>de</td>\n",
       "      <td>Mehrstufige Container-Ausdrücke in der Aufgabe...</td>\n",
       "    </tr>\n",
       "    <tr>\n",
       "      <th>4</th>\n",
       "      <td>2000000093</td>\n",
       "      <td>H2851RM1</td>\n",
       "      <td>2015-12-03 16:58:37+00:00</td>\n",
       "      <td>ZSD_SR_ES</td>\n",
       "      <td>Aufruf des neueren Editors zum Bearbeiten von ...</td>\n",
       "      <td>de</td>\n",
       "      <td>Aufruf des neueren Editors zum Bearbeiten von ...</td>\n",
       "    </tr>\n",
       "    <tr>\n",
       "      <th>...</th>\n",
       "      <td>...</td>\n",
       "      <td>...</td>\n",
       "      <td>...</td>\n",
       "      <td>...</td>\n",
       "      <td>...</td>\n",
       "      <td>...</td>\n",
       "      <td>...</td>\n",
       "    </tr>\n",
       "    <tr>\n",
       "      <th>6054</th>\n",
       "      <td>2000012394</td>\n",
       "      <td>H2851SF2</td>\n",
       "      <td>2021-06-01 15:42:36+00:00</td>\n",
       "      <td>ZSD_SR_GBI</td>\n",
       "      <td>Hi PERSON2112&gt;, das ECC 6.08 GBI 3.20 Exklusiv...</td>\n",
       "      <td>de</td>\n",
       "      <td>Hi PERSON2112&gt;, das ECC 6.08 GBI 3.20 Exklusiv...</td>\n",
       "    </tr>\n",
       "    <tr>\n",
       "      <th>6055</th>\n",
       "      <td>2000012395</td>\n",
       "      <td>H2851US4</td>\n",
       "      <td>2021-06-02 09:04:00+00:00</td>\n",
       "      <td>ZSD_SR_ES</td>\n",
       "      <td>Good morning, please generate dev keys. for Us...</td>\n",
       "      <td>en</td>\n",
       "      <td>Guten Morgen, bitte generieren Sie Entwicklers...</td>\n",
       "    </tr>\n",
       "    <tr>\n",
       "      <th>6056</th>\n",
       "      <td>2000012396</td>\n",
       "      <td>H2851SF2</td>\n",
       "      <td>2021-06-02 14:44:10+00:00</td>\n",
       "      <td>ZSD_SR_BW</td>\n",
       "      <td>Sehr geehrtes SAP UCC Support Team, in einer Ü...</td>\n",
       "      <td>de</td>\n",
       "      <td>Sehr geehrtes SAP UCC Support Team, in einer Ü...</td>\n",
       "    </tr>\n",
       "    <tr>\n",
       "      <th>6057</th>\n",
       "      <td>2000012398</td>\n",
       "      <td>H2851BL1</td>\n",
       "      <td>2021-06-03 10:25:44+00:00</td>\n",
       "      <td>ZSD_SR_KTV</td>\n",
       "      <td>My colleague, PERSON2113 (&lt;PERSON2112&gt;), canno...</td>\n",
       "      <td>en</td>\n",
       "      <td>Mein Kollege, PERSON2113 (&lt;PERSON2112&gt; ), wede...</td>\n",
       "    </tr>\n",
       "    <tr>\n",
       "      <th>6058</th>\n",
       "      <td>2000012399</td>\n",
       "      <td>H2851MS3</td>\n",
       "      <td>2021-06-04 07:34:26+00:00</td>\n",
       "      <td>ZSD_SR_HANA</td>\n",
       "      <td>Hallo UCC, könnten Sie bitte die Downloadmögli...</td>\n",
       "      <td>de</td>\n",
       "      <td>Hallo UCC, könnten Sie bitte die Downloadmögli...</td>\n",
       "    </tr>\n",
       "  </tbody>\n",
       "</table>\n",
       "<p>6059 rows × 7 columns</p>\n",
       "</div>"
      ],
      "text/plain": [
       "              id  operator                 timestamp     category  \\\n",
       "0     2000000060  H2851RM1 2015-11-25 18:35:21+00:00    ZSD_SR_AA   \n",
       "1     2000000081  H2851RM1 2015-12-01 09:06:58+00:00  ZSD_SR_IDES   \n",
       "2     2000000091  H2851RM1 2015-12-03 16:13:00+00:00  ZSD_SR_IDES   \n",
       "3     2000000092  H2851RM1 2015-12-03 16:38:37+00:00  ZSD_SR_IDES   \n",
       "4     2000000093  H2851RM1 2015-12-03 16:58:37+00:00    ZSD_SR_ES   \n",
       "...          ...       ...                       ...          ...   \n",
       "6054  2000012394  H2851SF2 2021-06-01 15:42:36+00:00   ZSD_SR_GBI   \n",
       "6055  2000012395  H2851US4 2021-06-02 09:04:00+00:00    ZSD_SR_ES   \n",
       "6056  2000012396  H2851SF2 2021-06-02 14:44:10+00:00    ZSD_SR_BW   \n",
       "6057  2000012398  H2851BL1 2021-06-03 10:25:44+00:00   ZSD_SR_KTV   \n",
       "6058  2000012399  H2851MS3 2021-06-04 07:34:26+00:00  ZSD_SR_HANA   \n",
       "\n",
       "                                                   text language  \\\n",
       "0     Hallo zusammen aktuell sind die Systeme i06, i...       de   \n",
       "1     Wie bereits früher in Mails dokumentiert, läuf...       de   \n",
       "2     Kontextmenü im Workflow Builder funktioniert n...       de   \n",
       "3     Mehrstufige Container-Ausdrücke in der Aufgabe...       de   \n",
       "4     Aufruf des neueren Editors zum Bearbeiten von ...       de   \n",
       "...                                                 ...      ...   \n",
       "6054  Hi PERSON2112>, das ECC 6.08 GBI 3.20 Exklusiv...       de   \n",
       "6055  Good morning, please generate dev keys. for Us...       en   \n",
       "6056  Sehr geehrtes SAP UCC Support Team, in einer Ü...       de   \n",
       "6057  My colleague, PERSON2113 (<PERSON2112>), canno...       en   \n",
       "6058  Hallo UCC, könnten Sie bitte die Downloadmögli...       de   \n",
       "\n",
       "                                        translated-text  \n",
       "0     Hallo zusammen aktuell sind die Systeme i06, i...  \n",
       "1     Wie bereits früher in Mails dokumentiert, läuf...  \n",
       "2     Kontextmenü im Workflow Builder funktioniert n...  \n",
       "3     Mehrstufige Container-Ausdrücke in der Aufgabe...  \n",
       "4     Aufruf des neueren Editors zum Bearbeiten von ...  \n",
       "...                                                 ...  \n",
       "6054  Hi PERSON2112>, das ECC 6.08 GBI 3.20 Exklusiv...  \n",
       "6055  Guten Morgen, bitte generieren Sie Entwicklers...  \n",
       "6056  Sehr geehrtes SAP UCC Support Team, in einer Ü...  \n",
       "6057  Mein Kollege, PERSON2113 (<PERSON2112> ), wede...  \n",
       "6058  Hallo UCC, könnten Sie bitte die Downloadmögli...  \n",
       "\n",
       "[6059 rows x 7 columns]"
      ]
     },
     "execution_count": 2,
     "metadata": {},
     "output_type": "execute_result"
    }
   ],
   "source": [
    "messages = pp.preprocess()\n",
    "messages"
   ]
  },
  {
   "cell_type": "markdown",
   "metadata": {},
   "source": [
    "## Train and evaluate model"
   ]
  },
  {
   "cell_type": "code",
   "execution_count": 155,
   "metadata": {},
   "outputs": [
    {
     "name": "stdout",
     "output_type": "stream",
     "text": [
      "TRAIN Accuracy: 32.3%\n",
      "TEST Accuracy: 26.4%\n",
      "TEST Top 3 Accuracy: 44.7%\n"
     ]
    }
   ],
   "source": [
    "from sklearn.feature_extraction.text import TfidfTransformer, CountVectorizer\n",
    "from sklearn.model_selection import train_test_split\n",
    "from sklearn.naive_bayes import MultinomialNB\n",
    "from sklearn.metrics import accuracy_score, top_k_accuracy_score\n",
    "\n",
    "x = messages['text']\n",
    "y = messages['operator']  # change the prediction target here e.g. 'operator' or 'category'\n",
    "\n",
    "x_train, x_test, y_train, y_test = train_test_split(x, y, test_size=0.2, random_state=0)\n",
    "\n",
    "cv = CountVectorizer(stop_words=pp.NLP.Defaults.stop_words)\n",
    "x_train_tf = cv.fit_transform(x_train)\n",
    "\n",
    "tfidf_transformer = TfidfTransformer()\n",
    "x_train_tfidf= tfidf_transformer.fit_transform(x_train_tf)\n",
    "\n",
    "mnb = MultinomialNB()\n",
    "mnb = mnb.fit(x_train_tfidf, y_train)\n",
    "\n",
    "pred = mnb.predict(x_train_tfidf)\n",
    "print(f'TRAIN Accuracy: {accuracy_score(y_train, pred)*100:.1f}%')\n",
    "\n",
    "x_test_tf = cv.transform(x_test)\n",
    "x_test_tfidf = tfidf_transformer.transform(x_test_tf)\n",
    "\n",
    "pred = mnb.predict(x_test_tfidf)\n",
    "print(f'TEST Accuracy: {accuracy_score(y_test, pred)*100:.1f}%')\n",
    "\n",
    "pred = mnb.predict_proba(x_test_tfidf)\n",
    "print(f'TEST Top 3 Accuracy: {top_k_accuracy_score(y_test, pred, k=3)*100:.1f}%')"
   ]
  },
  {
   "cell_type": "markdown",
   "metadata": {},
   "source": [
    "## Demo with one message"
   ]
  },
  {
   "cell_type": "code",
   "execution_count": 162,
   "metadata": {},
   "outputs": [
    {
     "name": "stdout",
     "output_type": "stream",
     "text": [
      "Alert-DetailsName....................Java-Instanz nicht verfügbar Startzeit...............30.01.2017 17:41:50 CET Endezeit................30.01.2017 17:41:50 CET Verwaltetes Objekt......I8300001~JAVA~i83lp1_I83_00 Typ des verwalteten ObjektsTechnische Instanz Bewertung...............Rot Kategorie...............Verfügbarkeit Status..................Offen Alert-Beschreibung Die J2EE-Instanz i83lp1_I83_00 oder Teile von ihr laufen nicht. Prüfen S = ie die Alert-Details, um festzustellen, welche Komponenten nicht antwort = en. Starten Sie die Instanz gegebenenfalls neu. Analysewerkzeuge: Instanzstatus in http://i04lp1.informatik.tu-muenchen.de:50413/sapmc/sap = mc.html?SID=I83<(>&<)>NR=00<(>&<)>HOST=i83lp1 anzeigen. Überprüfen Sie manuell die http://i83lp1.informatik.tu-muenchen.de:50000 = index.html\">HTTP-Verfügbarkeit der Instanz<(><<)>/a>.\n"
     ]
    }
   ],
   "source": [
    "i = random.randint(0, len(messages)-1)\n",
    "x = messages['translated-text'][i:i+1]\n",
    "y = messages['operator'][i:i+1]\n",
    "print(x[i])"
   ]
  },
  {
   "cell_type": "code",
   "execution_count": 163,
   "metadata": {},
   "outputs": [
    {
     "name": "stdout",
     "output_type": "stream",
     "text": [
      "Predicted: H2851AS9\n",
      "True: H2851AS9\n"
     ]
    }
   ],
   "source": [
    "x_tf = cv.transform(x)\n",
    "x_tfidf = tfidf_transformer.transform(x_tf)\n",
    "print(f'Predicted: {mnb.predict(x_tfidf)[0]}')\n",
    "print(f'True: {y[i]}')"
   ]
  },
  {
   "cell_type": "code",
   "execution_count": null,
   "metadata": {},
   "outputs": [],
   "source": []
  }
 ],
 "metadata": {
  "kernelspec": {
   "display_name": "Python 3 (ipykernel)",
   "language": "python",
   "name": "python3"
  },
  "language_info": {
   "codemirror_mode": {
    "name": "ipython",
    "version": 3
   },
   "file_extension": ".py",
   "mimetype": "text/x-python",
   "name": "python",
   "nbconvert_exporter": "python",
   "pygments_lexer": "ipython3",
   "version": "3.8.5"
  }
 },
 "nbformat": 4,
 "nbformat_minor": 4
}
